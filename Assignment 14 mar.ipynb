{
 "cells": [
  {
   "cell_type": "code",
   "execution_count": null,
   "id": "f1036fb4",
   "metadata": {},
   "outputs": [],
   "source": [
    "Q7\n",
    "import math\n",
    "\n",
    "def f_distribution_mean_var(df_numerator, df_denominator):\n",
    "    if df_numerator <= 0 or df_denominator <= 0:\n",
    "        raise ValueError(\"Degrees of freedom must be positive\")\n",
    "    mean = df_denominator / (df_denominator - 2)\n",
    "    if df_denominator <= 4:\n",
    "        variance = math.inf\n",
    "    else:\n",
    "        variance = (2 * df_denominator ** 2 * (df_numerator + df_denominator - 2)) / (df_numerator * (df_denominator - 2) ** 2 * (df_denominator - 4))\n",
    "    return mean, variance\n"
   ]
  },
  {
   "cell_type": "code",
   "execution_count": null,
   "id": "23eb01a9",
   "metadata": {},
   "outputs": [],
   "source": [
    "q2\n",
    "from scipy.stats import f\n",
    "\n",
    "def f_distribution_critical_value(df_numerator, df_denominator, alpha=0.05):\n",
    "    if df_numerator <= 0 or df_denominator <= 0:\n",
    "        raise ValueError(\"Degrees of freedom must be positive\")\n",
    "    return f.ppf(alpha/2, df_numerator, df_denominator), f.ppf(1 - alpha/2, df_numerator, df_denominator)\n"
   ]
  },
  {
   "cell_type": "code",
   "execution_count": null,
   "id": "2284348a",
   "metadata": {},
   "outputs": [],
   "source": [
    "q1\n",
    "from scipy.stats import f\n",
    "\n",
    "def variance_ratio_test(data1, data2):\n",
    "    n1 = len(data1)\n",
    "    n2 = len(data2)\n",
    "    var1 = np.var(data1, ddof=1)\n",
    "    var2 = np.var(data2, ddof=1)\n",
    "    F = var1 / var2\n",
    "    df1 = n1 - 1\n",
    "    df2 = n2 - 1\n",
    "    p_value = f.sf(F, df1, df2) * 2\n",
    "    return F, p_value\n"
   ]
  },
  {
   "cell_type": "code",
   "execution_count": null,
   "id": "c973f2f3",
   "metadata": {},
   "outputs": [],
   "source": [
    "Q3\n",
    "import numpy as np\n",
    "from scipy.stats import f\n",
    "\n",
    "# set the known variances\n",
    "var1 = 5\n",
    "var2 = 3\n",
    "\n",
    "# set the sample sizes\n",
    "n1 = 30\n",
    "n2 = 40\n",
    "\n",
    "# generate random samples from normal distributions\n",
    "data1 = np.random.normal(loc=0, scale=np.sqrt(var1), size=n1)\n",
    "data2 = np.random.normal(loc=0, scale=np.sqrt(var2), size=n2)\n",
    "\n",
    "# calculate the F-value and p-value for the variance ratio test\n"
   ]
  }
 ],
 "metadata": {
  "kernelspec": {
   "display_name": "Python 3 (ipykernel)",
   "language": "python",
   "name": "python3"
  },
  "language_info": {
   "codemirror_mode": {
    "name": "ipython",
    "version": 3
   },
   "file_extension": ".py",
   "mimetype": "text/x-python",
   "name": "python",
   "nbconvert_exporter": "python",
   "pygments_lexer": "ipython3",
   "version": "3.9.13"
  }
 },
 "nbformat": 4,
 "nbformat_minor": 5
}
